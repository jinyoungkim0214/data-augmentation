{
  "nbformat": 4,
  "nbformat_minor": 0,
  "metadata": {
    "colab": {
      "provenance": [],
      "authorship_tag": "ABX9TyOrnFI26McxP9XPsg6jobY3",
      "include_colab_link": true
    },
    "kernelspec": {
      "name": "python3",
      "display_name": "Python 3"
    },
    "language_info": {
      "name": "python"
    }
  },
  "cells": [
    {
      "cell_type": "markdown",
      "metadata": {
        "id": "view-in-github",
        "colab_type": "text"
      },
      "source": [
        "<a href=\"https://colab.research.google.com/github/jinyoungkim0214/data-augmentation/blob/main/data_augmentation.ipynb\" target=\"_parent\"><img src=\"https://colab.research.google.com/assets/colab-badge.svg\" alt=\"Open In Colab\"/></a>"
      ]
    },
    {
      "cell_type": "code",
      "execution_count": null,
      "metadata": {
        "id": "C3E30qV2-CX5"
      },
      "outputs": [],
      "source": [
        "transforms.RandomResizedCrop(224),           # 무작위 크롭 후 224x224\n",
        "transforms.RandomHorizontalFlip(p=0.5),      # 50% 확률로 수평 뒤집기\n",
        "transforms.RandomVerticalFlip(p=0.5),        # 50% 확률로 수직 뒤집기\n",
        "transforms.RandomRotation(degrees=30),       # 최대 30도 무작위 회전\n",
        "transforms.ColorJitter(brightness=0.2,       # 밝기, 대비, 채도, 색조 조정\n",
        "                                   contrast=0.2,\n",
        "                                   saturation=0.2,\n",
        "                                   hue=0.1),\n",
        "transforms.RandomAffine(degrees=0,            # 이동 및 스케일링\n",
        "                                   translate=(0.1, 0.1),\n",
        "                                   scale=(0.8, 1.2)),\n",
        "transforms.RandomErasing(p=0.3,              # 30% 확률로 무작위 영역 지우기\n",
        "                                    scale=(0.02, 0.2),\n",
        "                                    ratio=(0.3, 3.3)),"
      ]
    },
    {
      "cell_type": "markdown",
      "source": [
        "materials classification 성능 향상시킬 만한 방법들\n",
        "\n",
        "materials classification 파일에는 random resized crop만 됨 -> augmentation 코드 하나씩 넣어보면서 성능 비교해볼 수 있음\n",
        "\n",
        "\n",
        "activation function 바꾸거나, 다른 network embedding 시키거나 하는 방법도 적용 가능\n",
        "\n",
        "SGD를 아담이나 아담W로 바꿔보기 가능\n",
        "\n",
        "아담:\n",
        "optimizer = optim.Adam(net.parameters(), lr=0.001, weight_decay=1e-4)\n",
        "\n",
        "아담W:\n",
        "optimizer = optim.AdamW(net.parameters(), lr=0.001, weight_decay=1e-4)\n",
        "\n",
        "\n",
        "Cross entropy loss 말고 다른 loss 추가(재료적 특성 반영할 만한 새로운 loss 설계)\n",
        "class 나눠놓고 아예 잘못 대분류하면 loss를 크게 준다거나."
      ],
      "metadata": {
        "id": "RJTMZyrQEC6f"
      }
    }
  ]
}